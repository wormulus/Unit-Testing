{
  "nbformat": 4,
  "nbformat_minor": 0,
  "metadata": {
    "colab": {
      "provenance": [],
      "authorship_tag": "ABX9TyPjm3FC6KIBaz+fIT+Afpm7",
      "include_colab_link": true
    },
    "kernelspec": {
      "name": "python3",
      "display_name": "Python 3"
    },
    "language_info": {
      "name": "python"
    }
  },
  "cells": [
    {
      "cell_type": "markdown",
      "metadata": {
        "id": "view-in-github",
        "colab_type": "text"
      },
      "source": [
        "<a href=\"https://colab.research.google.com/github/wormulus/Unit-Testing/blob/main/UnitTestingExample.ipynb\" target=\"_parent\"><img src=\"https://colab.research.google.com/assets/colab-badge.svg\" alt=\"Open In Colab\"/></a>"
      ]
    },
    {
      "cell_type": "code",
      "execution_count": 6,
      "metadata": {
        "colab": {
          "base_uri": "https://localhost:8080/"
        },
        "id": "lyeOBCWpSStr",
        "outputId": "389246c4-ea52-4591-eee6-3f00ce2540c4"
      },
      "outputs": [
        {
          "output_type": "stream",
          "name": "stderr",
          "text": [
            "...s.\n",
            "----------------------------------------------------------------------\n",
            "Ran 5 tests in 0.012s\n",
            "\n",
            "OK (skipped=1)\n"
          ]
        }
      ],
      "source": [
        "import unittest\n",
        "import datetime\n",
        "\n",
        "# defining specific errors\n",
        "class TooManyBoardsError(Exception):\n",
        "    def __str__(self):\n",
        "        msg = 'Cart cannot have more than 4 surfboards in it!'\n",
        "        return msg\n",
        "\n",
        "class CheckoutDateError(Exception):\n",
        "    def __str__(self):\n",
        "        msg = 'Date cannot be in the past!'\n",
        "        return msg\n",
        "\n",
        "# Imaginary surfboard company\n",
        "# All in same file for ease of demonstration\n",
        "class ShoppingCart:\n",
        "    def __init__(self):\n",
        "        self.num_surfboards = 0\n",
        "        self.checkout_date = None\n",
        "        self.rental_days = None\n",
        "        self.locals_discount = False\n",
        "\n",
        "    def add_surfboards(self, quantity=1):\n",
        "        if self.num_surfboards + quantity > 4:\n",
        "            raise TooManyBoardsError\n",
        "        else:\n",
        "            self.num_surfboards += quantity\n",
        "            suffix = '' if quantity == 1 else 's'\n",
        "            return f'Successfully added {quantity} surfboard{suffix} to cart!'\n",
        "\n",
        "    def set_checkout_date(self, date):\n",
        "        if date <= datetime.datetime.now():\n",
        "            raise CheckoutDateError\n",
        "        else:\n",
        "            self.checkout_date = date\n",
        "\n",
        "    def apply_locals_discount(self):\n",
        "        self.locals_discount = True\n",
        "\n",
        "# Unit Testing       \n",
        "class SurfShopTests(unittest.TestCase):\n",
        "\n",
        "    def setUp(self):\n",
        "        self.cart = ShoppingCart()\n",
        "\n",
        "    def test_add_surfboard(self):\n",
        "        message = self.cart.add_surfboards(quantity=1)\n",
        "        self.assertEqual(message, f'Successfully added 1 surfboard to cart!')\n",
        "\n",
        "    def test_add_surfboards(self):\n",
        "        for i in range(2, 5):\n",
        "            with self.subTest(i=i):\n",
        "                message = self.cart.add_surfboards(i)\n",
        "                self.assertEqual(message, f'Successfully added {i} surfboards to cart!')\n",
        "                self.cart = ShoppingCart()\n",
        "\n",
        "    @unittest.skip\n",
        "    def test_add_too_many_surfboards(self):\n",
        "        self.assertRaises(TooManyBoardsError, self.cart.add_surfboards, 5)\n",
        "\n",
        "    def test_apply_locals_discount(self):\n",
        "        self.cart.apply_locals_discount()\n",
        "        self.assertTrue(self.cart.locals_discount)\n",
        "\n",
        "    def test_add_invalid_checkout_date(self):\n",
        "        date = datetime.datetime.now()\n",
        "        self.assertRaises(CheckoutDateError, self.cart.set_checkout_date, date)\n",
        "\n",
        "# unittest.main(), but that will work jupyter notebook\n",
        "if __name__ == '__main__':\n",
        "    unittest.main(argv=['first-arg-is-ignored'], exit=False)\n"
      ]
    }
  ]
}